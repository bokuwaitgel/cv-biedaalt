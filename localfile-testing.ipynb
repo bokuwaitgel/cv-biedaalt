{
 "cells": [
  {
   "cell_type": "code",
   "execution_count": 1,
   "metadata": {},
   "outputs": [
    {
     "name": "stderr",
     "output_type": "stream",
     "text": [
      "/Users/itgl/Library/Python/3.9/lib/python/site-packages/urllib3/__init__.py:34: NotOpenSSLWarning: urllib3 v2 only supports OpenSSL 1.1.1+, currently the 'ssl' module is compiled with 'LibreSSL 2.8.3'. See: https://github.com/urllib3/urllib3/issues/3020\n",
      "  warnings.warn(\n"
     ]
    }
   ],
   "source": [
    "from __future__ import absolute_import\n",
    "from __future__  import division\n",
    "from __future__ import print_function\n",
    "import tensorflow as tf\n",
    "import numpy as np\n",
    "from skimage.io import imread\n",
    "from skimage.transform import resize\n",
    "import cv2\n",
    "import numpy as np\n",
    "import os\n",
    "from PIL import Image\n",
    "from io import BytesIO\n",
    "import time\n",
    "\n"
   ]
  },
  {
   "cell_type": "code",
   "execution_count": 2,
   "metadata": {},
   "outputs": [
    {
     "name": "stdout",
     "output_type": "stream",
     "text": [
      "[name: \"/device:CPU:0\"\n",
      "device_type: \"CPU\"\n",
      "memory_limit: 268435456\n",
      "locality {\n",
      "}\n",
      "incarnation: 8523772367381709218\n",
      "xla_global_id: -1\n",
      "]\n"
     ]
    }
   ],
   "source": [
    "from tensorflow.python.client import device_lib\n",
    "print(device_lib.list_local_devices())"
   ]
  },
  {
   "cell_type": "code",
   "execution_count": null,
   "metadata": {},
   "outputs": [],
   "source": []
  },
  {
   "cell_type": "code",
   "execution_count": 3,
   "metadata": {},
   "outputs": [],
   "source": [
    "def mamon_videoFightModel2(tf,wight='mamonbest947oscombo.hdfs'):\n",
    "    layers = tf.keras.layers\n",
    "    models = tf.keras.models\n",
    "    losses = tf.keras.losses\n",
    "    optimizers = tf.keras.optimizers\n",
    "    metrics = tf.keras.metrics\n",
    "    num_classes = 2\n",
    "    cnn = models.Sequential()\n",
    "    #cnn.add(base_model)\n",
    "\n",
    "    input_shapes=(160,160,3)\n",
    "    np.random.seed(1234)\n",
    "    vg19 = tf.keras.applications.vgg19.VGG19\n",
    "    base_model = vg19(include_top=False,weights='imagenet',input_shape=(160, 160,3))\n",
    "    # Freeze the layers except the last 4 layers\n",
    "    #for layer in base_model.layers:\n",
    "    #    layer.trainable = False\n",
    "\n",
    "    cnn = models.Sequential()\n",
    "    cnn.add(base_model)\n",
    "    cnn.add(layers.Flatten())\n",
    "    model = models.Sequential()\n",
    "\n",
    "    model.add(layers.TimeDistributed(cnn,  input_shape=(30, 160, 160, 3)))\n",
    "    model.add(layers.LSTM(30 , return_sequences= True))\n",
    "\n",
    "    model.add(layers.TimeDistributed(layers.Dense(90)))\n",
    "    model.add(layers.Dropout(0.1))\n",
    "\n",
    "    model.add(layers.GlobalAveragePooling1D())\n",
    "\n",
    "    model.add(layers.Dense(512, activation='relu'))\n",
    "    model.add(layers.Dropout(0.3))\n",
    "\n",
    "    model.add(layers.Dense(num_classes, activation=\"sigmoid\"))\n",
    "\n",
    "    adam = optimizers.Adam(lr=0.0005, beta_1=0.9, beta_2=0.999, epsilon=1e-08)\n",
    "    model.load_weights(wight)\n",
    "    rms = optimizers.RMSprop()\n",
    "\n",
    "    model.compile(loss='binary_crossentropy', optimizer=adam, metrics=[\"accuracy\"])\n",
    "\n",
    "    return model\n"
   ]
  },
  {
   "cell_type": "code",
   "execution_count": 4,
   "metadata": {},
   "outputs": [
    {
     "name": "stderr",
     "output_type": "stream",
     "text": [
      "WARNING:absl:At this time, the v2.11+ optimizer `tf.keras.optimizers.Adam` runs slowly on M1/M2 Macs, please use the legacy Keras optimizer instead, located at `tf.keras.optimizers.legacy.Adam`.\n",
      "WARNING:absl:`lr` is deprecated in Keras optimizer, please use `learning_rate` or use the legacy optimizer, e.g.,tf.keras.optimizers.legacy.Adam.\n",
      "2023-12-14 17:21:49.216351: W tensorflow/core/util/tensor_slice_reader.cc:98] Could not open mamonbest947oscombo.hdfs: DATA_LOSS: not an sstable (bad magic number): perhaps your file is in a different file format and you need to use a different restore operator?\n",
      "WARNING:absl:At this time, the v2.11+ optimizer `tf.keras.optimizers.RMSprop` runs slowly on M1/M2 Macs, please use the legacy Keras optimizer instead, located at `tf.keras.optimizers.legacy.RMSprop`.\n"
     ]
    }
   ],
   "source": [
    "import numpy as np\n",
    "from skimage.transform import resize\n",
    "np.random.seed(1234)\n",
    "model22 = mamon_videoFightModel2(tf)\n"
   ]
  },
  {
   "cell_type": "code",
   "execution_count": 5,
   "metadata": {},
   "outputs": [
    {
     "ename": "AttributeError",
     "evalue": "'Sequential' object has no attribute '_make_predict_function'",
     "output_type": "error",
     "traceback": [
      "\u001b[0;31m---------------------------------------------------------------------------\u001b[0m",
      "\u001b[0;31mAttributeError\u001b[0m                            Traceback (most recent call last)",
      "\u001b[1;32m/Users/itgl/Documents/school/computer-vision/Real-Time-Violence-Detection-in-Video-/localfile-testing.ipynb Cell 6\u001b[0m line \u001b[0;36m1\n\u001b[0;32m----> <a href='vscode-notebook-cell:/Users/itgl/Documents/school/computer-vision/Real-Time-Violence-Detection-in-Video-/localfile-testing.ipynb#W5sZmlsZQ%3D%3D?line=0'>1</a>\u001b[0m model22\u001b[39m.\u001b[39;49m_make_predict_function()\n",
      "\u001b[0;31mAttributeError\u001b[0m: 'Sequential' object has no attribute '_make_predict_function'"
     ]
    }
   ],
   "source": [
    "model22._make_predict_function()\n"
   ]
  },
  {
   "cell_type": "code",
   "execution_count": 6,
   "metadata": {},
   "outputs": [],
   "source": [
    "def video_mamonreader(cv2,filename):\n",
    "    frames = np.zeros((30, 160, 160, 3), dtype=np.float)\n",
    "    i=0\n",
    "    print(frames.shape)\n",
    "    vc = cv2.VideoCapture(filename)\n",
    "    if vc.isOpened():\n",
    "        rval , frame = vc.read()\n",
    "    else:\n",
    "        rval = False\n",
    "    frm = resize(frame,(160,160,3))\n",
    "    frm = np.expand_dims(frm,axis=0)\n",
    "    if(np.max(frm)>1):\n",
    "        frm = frm/255.0\n",
    "    frames[i][:] = frm\n",
    "    i +=1\n",
    "    print(\"reading video\")\n",
    "    while i < 30:\n",
    "        rval, frame = vc.read()\n",
    "        frm = resize(frame,(160,160,3))\n",
    "        frm = np.expand_dims(frm,axis=0)\n",
    "        if(np.max(frm)>1):\n",
    "            frm = frm/255.0\n",
    "        frames[i][:] = frm\n",
    "        i +=1\n",
    "    return frames"
   ]
  },
  {
   "cell_type": "code",
   "execution_count": 7,
   "metadata": {},
   "outputs": [],
   "source": [
    "def pred_fight(model,video,acuracy=0.9):\n",
    "    pred_test = model.predict(video)\n",
    "    if pred_test[0][1] >=acuracy:\n",
    "        return True , pred_test[0][1]\n",
    "    else:\n",
    "        return False , pred_test[0][1]"
   ]
  },
  {
   "cell_type": "code",
   "execution_count": null,
   "metadata": {},
   "outputs": [],
   "source": []
  },
  {
   "cell_type": "code",
   "execution_count": 8,
   "metadata": {},
   "outputs": [],
   "source": [
    "def main_fight(vidoss):\n",
    "    vid = video_mamonreader(cv2,vidoss)\n",
    "    datav = np.zeros((1, 30, 160, 160, 3), dtype=np.float)\n",
    "    datav[0][:][:] = vid\n",
    "    millis = int(round(time.time() * 1000))\n",
    "    print(millis)\n",
    "    f , precent = pred_fight(model22,datav,acuracy=0.65)\n",
    "    millis2 = int(round(time.time() * 1000))\n",
    "    print(millis2)\n",
    "    res_mamon = {'fight':f , 'precentegeoffight':str(precent)}\n",
    "    res_mamon['processing_time'] =  str(millis2-millis)\n",
    "    return res_mamon"
   ]
  },
  {
   "cell_type": "code",
   "execution_count": 9,
   "metadata": {},
   "outputs": [
    {
     "name": "stderr",
     "output_type": "stream",
     "text": [
      "/var/folders/6y/6q90_6fx451bhd6kbn9ly_f40000gn/T/ipykernel_47279/3587796701.py:2: DeprecationWarning: `np.float` is a deprecated alias for the builtin `float`. To silence this warning, use `float` by itself. Doing this will not modify any behavior and is safe. If you specifically wanted the numpy scalar type, use `np.float64` here.\n",
      "Deprecated in NumPy 1.20; for more details and guidance: https://numpy.org/devdocs/release/1.20.0-notes.html#deprecations\n",
      "  frames = np.zeros((30, 160, 160, 3), dtype=np.float)\n"
     ]
    },
    {
     "name": "stdout",
     "output_type": "stream",
     "text": [
      "(30, 160, 160, 3)\n",
      "reading video\n"
     ]
    },
    {
     "name": "stderr",
     "output_type": "stream",
     "text": [
      "/var/folders/6y/6q90_6fx451bhd6kbn9ly_f40000gn/T/ipykernel_47279/3585827140.py:3: DeprecationWarning: `np.float` is a deprecated alias for the builtin `float`. To silence this warning, use `float` by itself. Doing this will not modify any behavior and is safe. If you specifically wanted the numpy scalar type, use `np.float64` here.\n",
      "Deprecated in NumPy 1.20; for more details and guidance: https://numpy.org/devdocs/release/1.20.0-notes.html#deprecations\n",
      "  datav = np.zeros((1, 30, 160, 160, 3), dtype=np.float)\n"
     ]
    },
    {
     "name": "stdout",
     "output_type": "stream",
     "text": [
      "1702545738770\n",
      "1/1 [==============================] - 2s 2s/step\n",
      "1702545740933\n"
     ]
    }
   ],
   "source": [
    "res = main_fight('/Users/itgl/Documents/school/computer-vision/Real-Time-Violence-Detection-in-Video-/RPReplay_Final1702363455.mov')"
   ]
  },
  {
   "cell_type": "code",
   "execution_count": 10,
   "metadata": {},
   "outputs": [
    {
     "data": {
      "text/plain": [
       "{'fight': False, 'precentegeoffight': '0.42954102', 'processing_time': '2163'}"
      ]
     },
     "execution_count": 10,
     "metadata": {},
     "output_type": "execute_result"
    }
   ],
   "source": [
    "res"
   ]
  },
  {
   "cell_type": "code",
   "execution_count": 21,
   "metadata": {},
   "outputs": [
    {
     "name": "stdout",
     "output_type": "stream",
     "text": [
      "(30, 160, 160, 3)\n",
      "reading video\n",
      "1575565085390\n",
      "1575565085575\n"
     ]
    }
   ],
   "source": [
    "res = main_fight('hdfight.mp4')"
   ]
  },
  {
   "cell_type": "code",
   "execution_count": 22,
   "metadata": {},
   "outputs": [
    {
     "data": {
      "text/plain": [
       "{'fight': True, 'precentegeoffight': '0.9841797', 'processing_time': '185'}"
      ]
     },
     "execution_count": 22,
     "metadata": {},
     "output_type": "execute_result"
    }
   ],
   "source": [
    "res"
   ]
  },
  {
   "cell_type": "code",
   "execution_count": null,
   "metadata": {},
   "outputs": [],
   "source": []
  }
 ],
 "metadata": {
  "kernelspec": {
   "display_name": "Python 3",
   "language": "python",
   "name": "python3"
  },
  "language_info": {
   "codemirror_mode": {
    "name": "ipython",
    "version": 3
   },
   "file_extension": ".py",
   "mimetype": "text/x-python",
   "name": "python",
   "nbconvert_exporter": "python",
   "pygments_lexer": "ipython3",
   "version": "3.9.6"
  }
 },
 "nbformat": 4,
 "nbformat_minor": 2
}
