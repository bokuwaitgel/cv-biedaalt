{
 "cells": [
  {
   "cell_type": "code",
   "execution_count": 1,
   "metadata": {},
   "outputs": [
    {
     "name": "stderr",
     "output_type": "stream",
     "text": [
      "/Users/itgl/Library/Python/3.9/lib/python/site-packages/urllib3/__init__.py:34: NotOpenSSLWarning: urllib3 v2 only supports OpenSSL 1.1.1+, currently the 'ssl' module is compiled with 'LibreSSL 2.8.3'. See: https://github.com/urllib3/urllib3/issues/3020\n",
      "  warnings.warn(\n"
     ]
    }
   ],
   "source": [
    "from __future__ import absolute_import\n",
    "from __future__  import division\n",
    "from __future__ import print_function\n",
    "import tensorflow as tf\n",
    "import numpy as np\n",
    "from skimage.io import imread\n",
    "from skimage.transform import resize\n",
    "import cv2\n",
    "import numpy as np\n",
    "import pandas as pd\n",
    "import matplotlib.pyplot as plt"
   ]
  },
  {
   "cell_type": "code",
   "execution_count": 2,
   "metadata": {},
   "outputs": [],
   "source": [
    "import os"
   ]
  },
  {
   "cell_type": "code",
   "execution_count": 3,
   "metadata": {},
   "outputs": [],
   "source": [
    "from mamonfight22 import *"
   ]
  },
  {
   "cell_type": "code",
   "execution_count": 4,
   "metadata": {},
   "outputs": [],
   "source": [
    "def mamon_videoFightModel2(tf,wight='./mamonbest947oscombo.hdfs'):\n",
    "    layers = tf.keras.layers\n",
    "    models = tf.keras.models\n",
    "    losses = tf.keras.losses\n",
    "    optimizers = tf.keras.optimizers\n",
    "    metrics = tf.keras.metrics\n",
    "    num_classes = 2\n",
    "    cnn = models.Sequential()\n",
    "    #cnn.add(base_model)\n",
    "\n",
    "    input_shapes=(160,160,3)\n",
    "    np.random.seed(1234)\n",
    "    vg19 = tf.keras.applications.vgg19.VGG19\n",
    "    base_model = vg19(include_top=False,weights='imagenet',input_shape=(160, 160,3))\n",
    "    # Freeze the layers except the last 4 layers\n",
    "    #for layer in base_model.layers:\n",
    "    #    layer.trainable = False\n",
    "\n",
    "    cnn = models.Sequential()\n",
    "    cnn.add(base_model)\n",
    "    cnn.add(layers.Flatten())\n",
    "    model = models.Sequential()\n",
    "\n",
    "    model.add(layers.TimeDistributed(cnn,  input_shape=(30, 160, 160, 3)))\n",
    "    model.add(layers.LSTM(30 , return_sequences= True))\n",
    "\n",
    "    model.add(layers.TimeDistributed(layers.Dense(90)))\n",
    "    model.add(layers.Dropout(0.1))\n",
    "\n",
    "    model.add(layers.GlobalAveragePooling1D())\n",
    "\n",
    "    model.add(layers.Dense(512, activation='relu'))\n",
    "    model.add(layers.Dropout(0.3))\n",
    "\n",
    "    model.add(layers.Dense(num_classes, activation=\"sigmoid\"))\n",
    "\n",
    "    adam = optimizers.Adam(lr=0.0005, beta_1=0.9, beta_2=0.999, epsilon=1e-08)\n",
    "    model.load_weights(wight)\n",
    "    rms = optimizers.RMSprop()\n",
    "\n",
    "    model.compile(loss='binary_crossentropy', optimizer=adam, metrics=[\"accuracy\"])\n",
    "\n",
    "    return model"
   ]
  },
  {
   "cell_type": "code",
   "execution_count": 5,
   "metadata": {},
   "outputs": [
    {
     "name": "stderr",
     "output_type": "stream",
     "text": [
      "WARNING:absl:At this time, the v2.11+ optimizer `tf.keras.optimizers.Adam` runs slowly on M1/M2 Macs, please use the legacy Keras optimizer instead, located at `tf.keras.optimizers.legacy.Adam`.\n",
      "WARNING:absl:`lr` is deprecated in Keras optimizer, please use `learning_rate` or use the legacy optimizer, e.g.,tf.keras.optimizers.legacy.Adam.\n",
      "2023-12-15 00:59:26.919227: W tensorflow/core/util/tensor_slice_reader.cc:98] Could not open ./mamonbest947oscombo.hdfs: DATA_LOSS: not an sstable (bad magic number): perhaps your file is in a different file format and you need to use a different restore operator?\n",
      "WARNING:absl:At this time, the v2.11+ optimizer `tf.keras.optimizers.RMSprop` runs slowly on M1/M2 Macs, please use the legacy Keras optimizer instead, located at `tf.keras.optimizers.legacy.RMSprop`.\n"
     ]
    }
   ],
   "source": [
    "import numpy as np\n",
    "from skimage.transform import resize\n",
    "np.random.seed(1234)\n",
    "model = mamon_videoFightModel2(tf)"
   ]
  },
  {
   "cell_type": "code",
   "execution_count": 7,
   "metadata": {},
   "outputs": [
    {
     "name": "stdout",
     "output_type": "stream",
     "text": [
      "1/1 [==============================] - 2s 2s/step\n"
     ]
    },
    {
     "name": "stderr",
     "output_type": "stream",
     "text": [
      "/var/folders/6y/6q90_6fx451bhd6kbn9ly_f40000gn/T/ipykernel_52978/4280832982.py:40: DeprecationWarning: `np.float` is a deprecated alias for the builtin `float`. To silence this warning, use `float` by itself. Doing this will not modify any behavior and is safe. If you specifically wanted the numpy scalar type, use `np.float64` here.\n",
      "Deprecated in NumPy 1.20; for more details and guidance: https://numpy.org/devdocs/release/1.20.0-notes.html#deprecations\n",
      "  frames = np.zeros((30, 160, 160, 3), dtype=np.float)\n"
     ]
    },
    {
     "name": "stdout",
     "output_type": "stream",
     "text": [
      "1/1 [==============================] - 2s 2s/step\n",
      "1/1 [==============================] - 2s 2s/step\n",
      "1/1 [==============================] - 2s 2s/step\n",
      "1/1 [==============================] - 2s 2s/step\n",
      "1/1 [==============================] - 2s 2s/step\n",
      "1/1 [==============================] - 2s 2s/step\n",
      "1/1 [==============================] - 2s 2s/step\n",
      "1/1 [==============================] - 2s 2s/step\n",
      "1/1 [==============================] - 2s 2s/step\n",
      "1/1 [==============================] - 2s 2s/step\n",
      "1/1 [==============================] - 2s 2s/step\n",
      "1/1 [==============================] - 2s 2s/step\n",
      "Violance detacted here ...\n",
      "1/1 [==============================] - 2s 2s/step\n",
      "1/1 [==============================] - 2s 2s/step\n",
      "1/1 [==============================] - 2s 2s/step\n",
      "1/1 [==============================] - 2s 2s/step\n",
      "1/1 [==============================] - 2s 2s/step\n",
      "1/1 [==============================] - 2s 2s/step\n"
     ]
    },
    {
     "ename": "AttributeError",
     "evalue": "'NoneType' object has no attribute 'shape'",
     "output_type": "error",
     "traceback": [
      "\u001b[0;31m---------------------------------------------------------------------------\u001b[0m",
      "\u001b[0;31mAttributeError\u001b[0m                            Traceback (most recent call last)",
      "\u001b[1;32m/Users/itgl/Documents/school/computer-vision/Real-Time-Violence-Detection-in-Video-/predicting-localvideo-and-saving-violence-video.ipynb Cell 6\u001b[0m line \u001b[0;36m4\n\u001b[1;32m     <a href='vscode-notebook-cell:/Users/itgl/Documents/school/computer-vision/Real-Time-Violence-Detection-in-Video-/predicting-localvideo-and-saving-violence-video.ipynb#W5sZmlsZQ%3D%3D?line=40'>41</a>\u001b[0m     old \u001b[39m=\u001b[39m []\n\u001b[1;32m     <a href='vscode-notebook-cell:/Users/itgl/Documents/school/computer-vision/Real-Time-Violence-Detection-in-Video-/predicting-localvideo-and-saving-violence-video.ipynb#W5sZmlsZQ%3D%3D?line=41'>42</a>\u001b[0m \u001b[39melse\u001b[39;00m:\n\u001b[0;32m---> <a href='vscode-notebook-cell:/Users/itgl/Documents/school/computer-vision/Real-Time-Violence-Detection-in-Video-/predicting-localvideo-and-saving-violence-video.ipynb#W5sZmlsZQ%3D%3D?line=42'>43</a>\u001b[0m     frm \u001b[39m=\u001b[39m resize(frame,(\u001b[39m160\u001b[39;49m,\u001b[39m160\u001b[39;49m,\u001b[39m3\u001b[39;49m))\n\u001b[1;32m     <a href='vscode-notebook-cell:/Users/itgl/Documents/school/computer-vision/Real-Time-Violence-Detection-in-Video-/predicting-localvideo-and-saving-violence-video.ipynb#W5sZmlsZQ%3D%3D?line=43'>44</a>\u001b[0m     old\u001b[39m.\u001b[39mappend(frame)\n\u001b[1;32m     <a href='vscode-notebook-cell:/Users/itgl/Documents/school/computer-vision/Real-Time-Violence-Detection-in-Video-/predicting-localvideo-and-saving-violence-video.ipynb#W5sZmlsZQ%3D%3D?line=44'>45</a>\u001b[0m     fshape \u001b[39m=\u001b[39m frame\u001b[39m.\u001b[39mshape\n",
      "File \u001b[0;32m~/Library/Python/3.9/lib/python/site-packages/skimage/transform/_warps.py:144\u001b[0m, in \u001b[0;36mresize\u001b[0;34m(image, output_shape, order, mode, cval, clip, preserve_range, anti_aliasing, anti_aliasing_sigma)\u001b[0m\n\u001b[1;32m     69\u001b[0m \u001b[39mdef\u001b[39;00m \u001b[39mresize\u001b[39m(image, output_shape, order\u001b[39m=\u001b[39m\u001b[39mNone\u001b[39;00m, mode\u001b[39m=\u001b[39m\u001b[39m'\u001b[39m\u001b[39mreflect\u001b[39m\u001b[39m'\u001b[39m, cval\u001b[39m=\u001b[39m\u001b[39m0\u001b[39m, clip\u001b[39m=\u001b[39m\u001b[39mTrue\u001b[39;00m,\n\u001b[1;32m     70\u001b[0m            preserve_range\u001b[39m=\u001b[39m\u001b[39mFalse\u001b[39;00m, anti_aliasing\u001b[39m=\u001b[39m\u001b[39mNone\u001b[39;00m, anti_aliasing_sigma\u001b[39m=\u001b[39m\u001b[39mNone\u001b[39;00m):\n\u001b[1;32m     71\u001b[0m \u001b[39m    \u001b[39m\u001b[39m\"\"\"Resize image to match a certain size.\u001b[39;00m\n\u001b[1;32m     72\u001b[0m \n\u001b[1;32m     73\u001b[0m \u001b[39m    Performs interpolation to up-size or down-size N-dimensional images. Note\u001b[39;00m\n\u001b[0;32m   (...)\u001b[0m\n\u001b[1;32m    141\u001b[0m \n\u001b[1;32m    142\u001b[0m \u001b[39m    \"\"\"\u001b[39;00m\n\u001b[0;32m--> 144\u001b[0m     image, output_shape \u001b[39m=\u001b[39m _preprocess_resize_output_shape(image, output_shape)\n\u001b[1;32m    145\u001b[0m     input_shape \u001b[39m=\u001b[39m image\u001b[39m.\u001b[39mshape\n\u001b[1;32m    146\u001b[0m     input_type \u001b[39m=\u001b[39m image\u001b[39m.\u001b[39mdtype\n",
      "File \u001b[0;32m~/Library/Python/3.9/lib/python/site-packages/skimage/transform/_warps.py:54\u001b[0m, in \u001b[0;36m_preprocess_resize_output_shape\u001b[0;34m(image, output_shape)\u001b[0m\n\u001b[1;32m     52\u001b[0m output_shape \u001b[39m=\u001b[39m \u001b[39mtuple\u001b[39m(output_shape)\n\u001b[1;32m     53\u001b[0m output_ndim \u001b[39m=\u001b[39m \u001b[39mlen\u001b[39m(output_shape)\n\u001b[0;32m---> 54\u001b[0m input_shape \u001b[39m=\u001b[39m image\u001b[39m.\u001b[39;49mshape\n\u001b[1;32m     55\u001b[0m \u001b[39mif\u001b[39;00m output_ndim \u001b[39m>\u001b[39m image\u001b[39m.\u001b[39mndim:\n\u001b[1;32m     56\u001b[0m     \u001b[39m# append dimensions to input_shape\u001b[39;00m\n\u001b[1;32m     57\u001b[0m     input_shape \u001b[39m+\u001b[39m\u001b[39m=\u001b[39m (\u001b[39m1\u001b[39m, ) \u001b[39m*\u001b[39m (output_ndim \u001b[39m-\u001b[39m image\u001b[39m.\u001b[39mndim)\n",
      "\u001b[0;31mAttributeError\u001b[0m: 'NoneType' object has no attribute 'shape'"
     ]
    },
    {
     "ename": "",
     "evalue": "",
     "output_type": "error",
     "traceback": [
      "\u001b[1;31mThe Kernel crashed while executing code in the the current cell or a previous cell. Please review the code in the cell(s) to identify a possible cause of the failure. Click <a href='https://aka.ms/vscodeJupyterKernelCrash'>here</a> for more info. View Jupyter <a href='command:jupyter.viewOutput'>log</a> for further details."
     ]
    }
   ],
   "source": [
    "cap = cv2.VideoCapture('./RPReplay_Final1702363455.mov')      \n",
    "i = 0\n",
    "frames = np.zeros((30, 160, 160, 3), dtype=np.float32)\n",
    "old = []\n",
    "j = 0\n",
    "while(True):\n",
    "    ret, frame = cap.read()\n",
    "  \n",
    "    # describe the type of font\n",
    "    # to be used.\n",
    "    font = cv2.FONT_HERSHEY_SIMPLEX\n",
    "    if i > 29:\n",
    "        ysdatav2 = np.zeros((1, 30, 160, 160, 3), dtype=np.float32)\n",
    "        ysdatav2[0][:][:] = frames\n",
    "        predaction = pred_fight(model,ysdatav2,acuracy=0.96)\n",
    "        if predaction[0] == True:\n",
    "            cv2.putText(frame, \n",
    "                'Violance Deacted  ... Violence .. violence', \n",
    "                (50, 50), \n",
    "                font, 3, \n",
    "                (0, 255, 255), \n",
    "                2, \n",
    "                cv2.LINE_4)\n",
    "            cv2.imshow('video', frame)\n",
    "            print('Violance detacted here ...')\n",
    "            fshape = frame.shape\n",
    "            fheight = fshape[0]\n",
    "            fwidth = fshape[1]\n",
    "            # fourcc = cv2.VideoWriter_fourcc(*'MP4V')\n",
    "            # # vio = cv2.VideoWriter(\"./videos/output-\"+str(j)+\".avi\", fourcc, 10.0, (fwidth,fheight))\n",
    "            # vio = cv2.VideoWriter(\"./videos/output-\"+str(j)+\".mp4\", cv2.VideoWriter_fourcc(*'mp4v'), 10, (300, 400))\n",
    "            vio = cv2.VideoWriter(\"./videos/output-\"+str(j)+\".avi\",  \n",
    "                         cv2.VideoWriter_fourcc(*'MJPG'), \n",
    "                         10, (fwidth,fheight)) \n",
    "            for frameinss in old:\n",
    "                vio.write(frameinss)\n",
    "            vio.release()\n",
    "        i = 0\n",
    "        j += 1\n",
    "        frames = np.zeros((30, 160, 160, 3), dtype=np.float)\n",
    "        old = []\n",
    "    else:\n",
    "        frm = resize(frame,(160,160,3))\n",
    "        old.append(frame)\n",
    "        fshape = frame.shape\n",
    "        fheight = fshape[0]\n",
    "        fwidth = fshape[1]\n",
    "        frm = np.expand_dims(frm,axis=0)\n",
    "        if(np.max(frm)>1):\n",
    "            frm = frm/255.0\n",
    "        frames[i][:] = frm\n",
    "        \n",
    "        i+=1\n",
    "    \n",
    "    cv2.imshow('video', frame)\n",
    "  \n",
    "\n",
    "    if cv2.waitKey(1) & 0xFF == ord('q'):\n",
    "        break\n",
    "\n",
    "cap.release()\n",
    "\n",
    "cv2.destroyAllWindows()"
   ]
  },
  {
   "cell_type": "code",
   "execution_count": null,
   "metadata": {},
   "outputs": [],
   "source": [
    "import time\n",
    "millis = int(round(time.time() * 1000))\n",
    "print(\"started at \" , millis)\n",
    "vid = video_mamonreader(cv2,'dvpalfight.dvd')\n",
    "millis2 = int(round(time.time() * 1000))\n",
    "print(\"time processing \" , millis2 - millis)"
   ]
  },
  {
   "cell_type": "code",
   "execution_count": null,
   "metadata": {},
   "outputs": [],
   "source": [
    "datav = np.zeros((1, 30, 160, 160, 3), dtype=np.float)"
   ]
  },
  {
   "cell_type": "code",
   "execution_count": null,
   "metadata": {},
   "outputs": [],
   "source": [
    "datav[0][:][:] = vid"
   ]
  },
  {
   "cell_type": "code",
   "execution_count": null,
   "metadata": {},
   "outputs": [],
   "source": [
    "millis = int(round(time.time() * 1000))\n",
    "print(\"started at \" , millis)\n",
    "print(pred_fight(model,datav,acuracy=0.6))\n",
    "millis2 = int(round(time.time() * 1000))\n",
    "print(\"time processing \" , millis2 - millis)"
   ]
  },
  {
   "cell_type": "code",
   "execution_count": null,
   "metadata": {},
   "outputs": [],
   "source": [
    "def video_mamonreader(cv2,filename):\n",
    "    frames = np.zeros((30, 160, 160, 3), dtype=np.float)\n",
    "    i=0\n",
    "    print(frames.shape)\n",
    "    vc = cv2.VideoCapture(filename)\n",
    "    if vc.isOpened():\n",
    "        rval , frame = vc.read()\n",
    "    else:\n",
    "        rval = False\n",
    "    frm = resize(frame,(160,160,3))\n",
    "    frm = np.expand_dims(frm,axis=0)\n",
    "    if(np.max(frm)>1):\n",
    "        frm = frm/255.0\n",
    "    frames[i][:] = frm\n",
    "    i +=1\n",
    "    print(\"reading video\")\n",
    "    while i < 30:\n",
    "        rval, frame = vc.read()\n",
    "        frm = resize(frame,(160,160,3))\n",
    "        frm = np.expand_dims(frm,axis=0)\n",
    "        if(np.max(frm)>1):\n",
    "            frm = frm/255.0\n",
    "        frames[i][:] = frm\n",
    "        i +=1\n",
    "    return frames"
   ]
  },
  {
   "cell_type": "code",
   "execution_count": null,
   "metadata": {},
   "outputs": [],
   "source": [
    "novid = video_mamonreader(cv2,'nofight.mp4')"
   ]
  },
  {
   "cell_type": "code",
   "execution_count": null,
   "metadata": {},
   "outputs": [],
   "source": [
    "nodatav = np.zeros((1, 40, 170, 170, 3), dtype=np.float)"
   ]
  },
  {
   "cell_type": "code",
   "execution_count": null,
   "metadata": {},
   "outputs": [],
   "source": [
    "nodatav[0][:][:] = novid"
   ]
  },
  {
   "cell_type": "code",
   "execution_count": null,
   "metadata": {},
   "outputs": [],
   "source": [
    "pred_fight(model,nodatav,acuracy=0.6)"
   ]
  },
  {
   "cell_type": "code",
   "execution_count": null,
   "metadata": {},
   "outputs": [],
   "source": []
  },
  {
   "cell_type": "code",
   "execution_count": null,
   "metadata": {},
   "outputs": [],
   "source": [
    "ysvid2 = video_mamonreader(cv2,'hdfight.mp4')"
   ]
  },
  {
   "cell_type": "code",
   "execution_count": null,
   "metadata": {},
   "outputs": [],
   "source": [
    "ysdatav2 = np.zeros((1, 30, 160, 160, 3), dtype=np.float)"
   ]
  },
  {
   "cell_type": "code",
   "execution_count": null,
   "metadata": {},
   "outputs": [],
   "source": [
    "ysdatav2[0][:][:] = ysvid2"
   ]
  },
  {
   "cell_type": "code",
   "execution_count": null,
   "metadata": {},
   "outputs": [],
   "source": [
    "import time\n",
    "\n",
    "millis = int(round(time.time() * 1000))\n",
    "print(\"started at \" , millis)\n",
    "predaction = pred_fight(model,ysdatav2,acuracy=0.9)\n",
    "print(predaction)\n",
    "millis2 = int(round(time.time() * 1000))\n",
    "print(\"time processing \" , millis2 - millis)\n"
   ]
  },
  {
   "cell_type": "code",
   "execution_count": null,
   "metadata": {},
   "outputs": [],
   "source": [
    "if predaction[0] == True:\n",
    "    print('violence')"
   ]
  },
  {
   "cell_type": "code",
   "execution_count": null,
   "metadata": {},
   "outputs": [],
   "source": [
    "novid3 = video_mamonreader(cv2,'golsss.mp4')"
   ]
  },
  {
   "cell_type": "code",
   "execution_count": null,
   "metadata": {},
   "outputs": [],
   "source": [
    "nodatav3 = np.zeros((1, 30, 160, 160, 3), dtype=np.float)\n",
    "nodatav3[0][:][:] = novid3"
   ]
  },
  {
   "cell_type": "code",
   "execution_count": null,
   "metadata": {},
   "outputs": [],
   "source": [
    "millis = int(round(time.time() * 1000))\n",
    "print(\"started at \" , millis)\n",
    "print(pred_fight(model,nodatav3,acuracy=0.8))\n",
    "millis2 = int(round(time.time() * 1000))\n",
    "print(\"time processing \" , millis2 - millis)\n"
   ]
  },
  {
   "cell_type": "code",
   "execution_count": null,
   "metadata": {},
   "outputs": [],
   "source": [
    "\n",
    "novid4 = video_mamonreader(cv2,'dvpalfight.dvd')"
   ]
  },
  {
   "cell_type": "code",
   "execution_count": null,
   "metadata": {},
   "outputs": [],
   "source": [
    "nodatav4 = np.zeros((1, 30, 160, 160, 3), dtype=np.float)\n",
    "nodatav4[0][:][:] = novid4"
   ]
  },
  {
   "cell_type": "code",
   "execution_count": null,
   "metadata": {},
   "outputs": [],
   "source": [
    "millis = int(round(time.time() * 1000))\n",
    "print(\"started at \" , millis)\n",
    "print(pred_fight(model,nodatav4,acuracy=0.9))\n",
    "millis2 = int(round(time.time() * 1000))\n",
    "print(\"time processing \" , millis2 - millis)"
   ]
  },
  {
   "cell_type": "code",
   "execution_count": null,
   "metadata": {},
   "outputs": [],
   "source": []
  }
 ],
 "metadata": {
  "kernelspec": {
   "display_name": "Python 3",
   "language": "python",
   "name": "python3"
  },
  "language_info": {
   "codemirror_mode": {
    "name": "ipython",
    "version": 3
   },
   "file_extension": ".py",
   "mimetype": "text/x-python",
   "name": "python",
   "nbconvert_exporter": "python",
   "pygments_lexer": "ipython3",
   "version": "3.9.6"
  }
 },
 "nbformat": 4,
 "nbformat_minor": 2
}
